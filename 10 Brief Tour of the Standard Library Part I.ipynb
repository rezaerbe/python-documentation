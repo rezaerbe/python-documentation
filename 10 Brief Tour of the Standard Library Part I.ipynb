{
 "cells": [
  {
   "cell_type": "markdown",
   "metadata": {},
   "source": [
    "# 10 Brief Tour of the Standard Library"
   ]
  },
  {
   "cell_type": "markdown",
   "metadata": {},
   "source": [
    "## 10.1 Operating System Interfaces"
   ]
  },
  {
   "cell_type": "code",
   "execution_count": 1,
   "metadata": {},
   "outputs": [
    {
     "output_type": "execute_result",
     "data": {
      "text/plain": "'e:\\\\Learning\\\\Python'"
     },
     "metadata": {},
     "execution_count": 1
    }
   ],
   "source": [
    "import os\n",
    "os.getcwd()     # Return the current working directory\n",
    "# os.chdir('/server/accesslogs')  # Change current working directory\n",
    "# os.system('mkdir today')    # Run the command mkdir in the system shell"
   ]
  },
  {
   "cell_type": "code",
   "execution_count": 2,
   "metadata": {
    "tags": []
   },
   "outputs": [],
   "source": [
    "import os\n",
    "# dir(os) # <returns a list of all module functions>\n",
    "# help(os) # <returns an extensive manual page created from the module's docstrings>"
   ]
  },
  {
   "cell_type": "code",
   "execution_count": 3,
   "metadata": {},
   "outputs": [],
   "source": [
    "import shutil\n",
    "# shutil.copyfile('data.db', 'archive.db')\n",
    "# shutil.move('/build/executables', 'installdir')"
   ]
  },
  {
   "cell_type": "markdown",
   "metadata": {},
   "source": [
    "## 10.2 File Wildcards"
   ]
  },
  {
   "cell_type": "code",
   "execution_count": 4,
   "metadata": {},
   "outputs": [
    {
     "output_type": "execute_result",
     "data": {
      "text/plain": "['fibo.py', 'top.py']"
     },
     "metadata": {},
     "execution_count": 4
    }
   ],
   "source": [
    "import glob\n",
    "glob.glob('*.py')"
   ]
  },
  {
   "cell_type": "markdown",
   "metadata": {},
   "source": [
    "## 10.3 Command Line Arguments"
   ]
  },
  {
   "cell_type": "code",
   "execution_count": 5,
   "metadata": {
    "tags": []
   },
   "outputs": [
    {
     "output_type": "stream",
     "name": "stdout",
     "text": "['C:\\\\ProgramData\\\\Anaconda3\\\\lib\\\\site-packages\\\\ipykernel_launcher.py', '-f', 'C:\\\\Users\\\\rezaerbe\\\\AppData\\\\Roaming\\\\jupyter\\\\runtime\\\\kernel-54ee04c2-65aa-4265-9b0c-174cbed89f9f.json']\n"
    }
   ],
   "source": [
    "import sys\n",
    "print(sys.argv)"
   ]
  },
  {
   "cell_type": "code",
   "execution_count": 6,
   "metadata": {},
   "outputs": [],
   "source": [
    "# Run on python shell\n",
    "\n",
    "# import argparse\n",
    "\n",
    "# parser = argparse.ArgumentParser(prog = 'top', description = 'Show top lines from each file')\n",
    "# parser.add_argument('filenames', nargs='+')\n",
    "# parser.add_argument('-1', '--lines', type=int, default=10)\n",
    "# args = parser.parse_args()\n",
    "# print(args)"
   ]
  },
  {
   "cell_type": "markdown",
   "metadata": {},
   "source": [
    "## 10.5 String Pattern Matching"
   ]
  },
  {
   "cell_type": "code",
   "execution_count": 7,
   "metadata": {
    "tags": []
   },
   "outputs": [
    {
     "output_type": "stream",
     "name": "stdout",
     "text": "['foot', 'fell', 'fastest']\ncat in the hat\n"
    }
   ],
   "source": [
    "import re\n",
    "print(re.findall(r'\\bf[a-z]*', 'which foot or hand fell fastest'))\n",
    "print(re.sub(r'(\\b[a-z]+) \\1', r'\\1', 'cat in the the hat'))"
   ]
  },
  {
   "cell_type": "code",
   "execution_count": 8,
   "metadata": {},
   "outputs": [
    {
     "output_type": "execute_result",
     "data": {
      "text/plain": "'tea for two'"
     },
     "metadata": {},
     "execution_count": 8
    }
   ],
   "source": [
    "'tea for too'.replace('too', 'two')"
   ]
  },
  {
   "cell_type": "markdown",
   "metadata": {},
   "source": [
    "## 10.6 Mathematics"
   ]
  },
  {
   "cell_type": "code",
   "execution_count": 9,
   "metadata": {
    "tags": []
   },
   "outputs": [
    {
     "output_type": "stream",
     "name": "stdout",
     "text": "0.7071067811865476\n10.0\n"
    }
   ],
   "source": [
    "import math\n",
    "print(math.cos(math.pi / 4))\n",
    "print(math.log(1024, 2))"
   ]
  },
  {
   "cell_type": "code",
   "execution_count": 10,
   "metadata": {
    "tags": []
   },
   "outputs": [
    {
     "output_type": "stream",
     "name": "stdout",
     "text": "pear\n[74, 41, 34, 95, 68, 64, 53, 29, 7, 79]\n0.7343487496537321\n5\n"
    }
   ],
   "source": [
    "import random\n",
    "print(random.choice(['apple', 'pear', 'banana']))\n",
    "print(random.sample(range(100), 10))    # sampling without replacement\n",
    "print(random.random())  # random float\n",
    "print(random.randrange(6))  # random integer chosen from range(6)"
   ]
  },
  {
   "cell_type": "code",
   "execution_count": 11,
   "metadata": {
    "tags": []
   },
   "outputs": [
    {
     "output_type": "stream",
     "name": "stdout",
     "text": "1.6071428571428572\n1.25\n1.3720238095238095\n"
    }
   ],
   "source": [
    "import statistics\n",
    "data = [2.75, 1.75, 1.25, 0.25, 0.5, 1.25, 3.5]\n",
    "print(statistics.mean(data))\n",
    "print(statistics.median(data))\n",
    "print(statistics.variance(data))"
   ]
  },
  {
   "cell_type": "markdown",
   "metadata": {},
   "source": [
    "## 10.7 Internet Access"
   ]
  },
  {
   "cell_type": "code",
   "execution_count": 12,
   "metadata": {},
   "outputs": [],
   "source": [
    "# from urllib.request import urlopen\n",
    "# with urlopen('http://tycho.usno.navy.mil/cgi-bin/timer.pl') as response:\n",
    "#     for line in response:\n",
    "#         line = line.decode('utf-8')     # Decoding binary data to text.\n",
    "#         if 'EST' in line or 'EDT' in line:  # look for Eastern Time\n",
    "#             print(line)\n",
    "\n",
    "# import smtplib\n",
    "# server = smtplib.SMTP('localhost')\n",
    "# server.sendmail('soothsayer@example.org', 'jcaesar@example.org',\n",
    "#     \"\"\"To: jcaesar@example.org\n",
    "#     From: soothsayer@example.org\n",
    "    \n",
    "#     Beware the Ides of March.\n",
    "#     \"\"\")\n",
    "# server.quit()"
   ]
  },
  {
   "cell_type": "markdown",
   "metadata": {},
   "source": [
    "## 10.8 Dates and Times"
   ]
  },
  {
   "cell_type": "code",
   "execution_count": 13,
   "metadata": {
    "tags": []
   },
   "outputs": [
    {
     "output_type": "stream",
     "name": "stdout",
     "text": "2020-07-05\n07-05-20. 05 Jul 2020 is a Sunday on the 05 day of July.\n20428\n"
    }
   ],
   "source": [
    "# dates are easily constructed and formatted\n",
    "from datetime import date\n",
    "now = date.today()\n",
    "print(now)\n",
    "print(now.strftime(\"%m-%d-%y. %d %b %Y is a %A on the %d day of %B.\")) \n",
    "\n",
    "# dates support calendar arithmethic\n",
    "birthday = date(1964, 7, 31)\n",
    "age = now - birthday\n",
    "print(age.days)"
   ]
  },
  {
   "cell_type": "markdown",
   "metadata": {},
   "source": [
    "## 10.9 Data Compression"
   ]
  },
  {
   "cell_type": "code",
   "execution_count": 14,
   "metadata": {
    "tags": []
   },
   "outputs": [
    {
     "output_type": "stream",
     "name": "stdout",
     "text": "41\n37\nb'witch which has which witches wrist watch'\n226805979\n"
    }
   ],
   "source": [
    "import zlib\n",
    "s = b'witch which has which witches wrist watch'\n",
    "print(len(s))\n",
    "\n",
    "t = zlib.compress(s)\n",
    "print(len(t))\n",
    "\n",
    "print(zlib.decompress(t))\n",
    "print(zlib.crc32(s))"
   ]
  },
  {
   "cell_type": "markdown",
   "metadata": {},
   "source": [
    "## 10.10 Performance Measurement"
   ]
  },
  {
   "cell_type": "code",
   "execution_count": 15,
   "metadata": {
    "tags": []
   },
   "outputs": [
    {
     "output_type": "stream",
     "name": "stdout",
     "text": "0.1151143999999995\n0.06701550000000012\n"
    }
   ],
   "source": [
    "from timeit import Timer\n",
    "print(Timer('t=a; a=b; b=t', 'a=1; b=2').timeit())\n",
    "print(Timer('a,b = b,a', 'a=1; b=2').timeit())"
   ]
  },
  {
   "cell_type": "markdown",
   "metadata": {},
   "source": [
    "## 10.11 Quality Control"
   ]
  },
  {
   "cell_type": "code",
   "execution_count": 16,
   "metadata": {},
   "outputs": [
    {
     "output_type": "execute_result",
     "data": {
      "text/plain": "TestResults(failed=0, attempted=1)"
     },
     "metadata": {},
     "execution_count": 16
    }
   ],
   "source": [
    "def average(values):\n",
    "    \"\"\"Computes the arithmethic mean of a list of numbers.\n",
    "    \n",
    "    >>> print(average([20, 30, 70]))\n",
    "    40.0\n",
    "    \"\"\"\n",
    "    return sum(values) / len(values)\n",
    "\n",
    "import doctest\n",
    "doctest.testmod()   # automatically validate the embedded test"
   ]
  },
  {
   "cell_type": "code",
   "execution_count": 17,
   "metadata": {
    "tags": []
   },
   "outputs": [],
   "source": [
    "# import unittest\n",
    "\n",
    "# class TestStatisticalFunctions(unittest.TestCase):\n",
    "\n",
    "#     def test_average(self):\n",
    "#         self.assertEqual(average([20, 30, 70]), 40.0)\n",
    "#         self.assertEqual(round(average([1, 5, 7]), 1), 4.3)\n",
    "#         with self.assertRaises(ZeroDividionError):\n",
    "#             average([])\n",
    "#         with self.assertRaises(TypeError):\n",
    "#            average(20, 30, 70)\n",
    "\n",
    "# unittest.main() # Calling from the command line invokes all tests"
   ]
  }
 ],
 "metadata": {
  "language_info": {
   "codemirror_mode": {
    "name": "ipython",
    "version": 3
   },
   "file_extension": ".py",
   "mimetype": "text/x-python",
   "name": "python",
   "nbconvert_exporter": "python",
   "pygments_lexer": "ipython3",
   "version": "3.7.6-final"
  },
  "orig_nbformat": 2,
  "kernelspec": {
   "name": "python3",
   "display_name": "Python 3"
  }
 },
 "nbformat": 4,
 "nbformat_minor": 2
}